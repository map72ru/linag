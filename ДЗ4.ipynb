{
  "nbformat": 4,
  "nbformat_minor": 0,
  "metadata": {
    "colab": {
      "name": "ДЗ4.ipynb",
      "provenance": [],
      "collapsed_sections": [],
      "authorship_tag": "ABX9TyMo1RblTTRELtR9qcAKzJ1b",
      "include_colab_link": true
    },
    "kernelspec": {
      "name": "python3",
      "display_name": "Python 3"
    },
    "language_info": {
      "name": "python"
    }
  },
  "cells": [
    {
      "cell_type": "markdown",
      "metadata": {
        "id": "view-in-github",
        "colab_type": "text"
      },
      "source": [
        "<a href=\"https://colab.research.google.com/github/map72ru/linag/blob/main/%D0%94%D0%974.ipynb\" target=\"_parent\"><img src=\"https://colab.research.google.com/assets/colab-badge.svg\" alt=\"Open In Colab\"/></a>"
      ]
    },
    {
      "cell_type": "markdown",
      "metadata": {
        "id": "UuaBgtOpcq7e"
      },
      "source": [
        "__1.__ Решить систему уравнений методом Гаусса:\n",
        "\n",
        "$$\\begin{cases}\n",
        "x_{1}+x_{2}-x_{3}-2x_{4}=0, \\\\\n",
        "2x_{1}+x_{2}-x_{3}+x_{4}=-2, \\\\\n",
        "x_{1}+x_{2}-3x_{3}+x_{4}=4.\n",
        "\\end{cases}$$\n",
        "\n",
        "\n",
        "Составим расширенную матрицу:\n",
        "\n",
        "$$\\begin{pmatrix}\n",
        "\\left.\\begin{matrix}\n",
        "1 & 1 & -1 & -2\\\\ \n",
        "2 & 1 & -1 & 1\\\\ \n",
        "1 & 1 & -3 & 1\n",
        "\\end{matrix}\\right|\n",
        "\\begin{matrix}\n",
        "0\\\\ \n",
        "-2\\\\\n",
        "4\n",
        "\\end{matrix}\n",
        "\\end{pmatrix}.$$\n",
        "\n",
        "Умножим первую строку на 2 вычтем из второй:\n",
        "\n",
        "$$\\begin{pmatrix}\n",
        "\\left.\\begin{matrix}\n",
        "1 & 1 & -1 & -2\\\\ \n",
        "0 & -1 & 1 & 5\\\\ \n",
        "1 & 1 & -3 & 1\n",
        "\\end{matrix}\\right|\n",
        "\\begin{matrix}\n",
        "0\\\\ \n",
        "-2\\\\\n",
        "4\n",
        "\\end{matrix}\n",
        "\\end{pmatrix}.$$\n",
        "\n",
        "Из третьей строки вычтем первую:\n",
        "$$\\begin{pmatrix}\n",
        "\\left.\\begin{matrix}\n",
        "1 & 1 & -1 & -2\\\\ \n",
        "0 & -1 & 1 & 5\\\\ \n",
        "0 & 0 & -2 & 3\n",
        "\\end{matrix}\\right|\n",
        "\\begin{matrix}\n",
        "0\\\\ \n",
        "-2\\\\\n",
        "4\n",
        "\\end{matrix}\n",
        "\\end{pmatrix}.$$\n",
        "\n",
        "Система имеет бесконечное множество решений. Из последней строки матрицы составим уравнение:\n",
        "\n",
        "$$-2 * x_{3} + 3 * x_{4} = 4$$\n",
        "\n",
        "Таким образом: \n",
        "\n",
        "$$x_{3} = -2 + 3/2 * x_{4}$$\n",
        "\n",
        "Если примем $x_{4}=c$, то $x_{3} = -2 + 3/2*c$, тогда\n",
        "\n",
        "$$ -x_{2} + x_{3} + 5 * x_{4} = -2$$\n",
        "или\n",
        "$$-x_{2} + -2 + 3/2*c + c = -2$$\n",
        "или\n",
        "$$x_{2}= 5/2*c $$\n",
        "Все подставляем в первое уравнение:\n",
        "\n",
        "$$x_{1} + 5/2*c + 2 - 3/2*c - 2*c = 0$$\n",
        "или\n",
        "$$x_{1} = c - 2$$\n",
        "\n",
        "Запишем все вместе:\n",
        "\n",
        "$$\\begin{cases}\n",
        "x_{1}= c - 2 \\\\\n",
        "x_{2}= 5/2*c \\\\\n",
        "x_{3}= -2 + 3/2*c \\\\\n",
        "x_{4}= c\n",
        "\\end{cases}$$\n",
        "\n",
        "Частное решение при $c = 0, x_{1} = -2, x_{2} = 0, x_{3} = -2, x_{4} = 0$. Проверим:\n",
        "\n",
        "$$\\begin{cases}\n",
        "-2+0+2-2*0=0, \\\\\n",
        "2*-2+0+2+0=-2, \\\\\n",
        "-2+0-3*(-2)+0=4.\n",
        "\\end{cases}$$\n",
        "\n",
        "Все равенства выполняются.\n",
        "\n"
      ]
    },
    {
      "cell_type": "markdown",
      "metadata": {
        "id": "4a-j8tgcoFkP"
      },
      "source": [
        "__2.__ Проверить на совместность и выяснить, сколько решений будет иметь система линейных уравнений:\n",
        "\n",
        "а) $\\begin{cases}\n",
        "3x_{1}-x_{2}+x_{3}=4, \\\\\n",
        "2x_{1}-5x_{2}-3x_{3}=-17, \\\\\n",
        "x_{1}+x_{2}-x_{3}=0;\n",
        "\\end{cases}$\n",
        "\n",
        "$$\\tilde A = \\begin{pmatrix}\n",
        "\\left.\\begin{matrix}\n",
        "3 & -1 & 1\\\\ \n",
        "2 & -5 & -3\\\\ \n",
        "1 & 1 & -1\n",
        "\\end{matrix}\\right|\n",
        "\\begin{matrix}\n",
        "4\\\\ \n",
        "-17\\\\\n",
        "0\n",
        "\\end{matrix}\n",
        "\\end{pmatrix}$$\n"
      ]
    },
    {
      "cell_type": "code",
      "metadata": {
        "id": "46GszBzzcpqx"
      },
      "source": [
        "import numpy as nm"
      ],
      "execution_count": null,
      "outputs": []
    },
    {
      "cell_type": "code",
      "metadata": {
        "colab": {
          "base_uri": "https://localhost:8080/"
        },
        "id": "OnDkVmLqr3V-",
        "outputId": "09c54365-0154-462e-9106-e12485e62919"
      },
      "source": [
        "A = nm.array([[3,-1,1], [2, -5, -3], [1, 1, -1]])\n",
        "nm.linalg.matrix_rank(A)"
      ],
      "execution_count": null,
      "outputs": [
        {
          "output_type": "execute_result",
          "data": {
            "text/plain": [
              "3"
            ]
          },
          "metadata": {
            "tags": []
          },
          "execution_count": 3
        }
      ]
    },
    {
      "cell_type": "code",
      "metadata": {
        "colab": {
          "base_uri": "https://localhost:8080/"
        },
        "id": "RtKxJ_BMsdWH",
        "outputId": "e4ee8b25-0c36-4a0b-d505-7d7c1c9c1c94"
      },
      "source": [
        "At = nm.concatenate([A, nm.array([[4], [-17], [0]])], axis=1)\n",
        "nm.linalg.matrix_rank(At)"
      ],
      "execution_count": null,
      "outputs": [
        {
          "output_type": "execute_result",
          "data": {
            "text/plain": [
              "3"
            ]
          },
          "metadata": {
            "tags": []
          },
          "execution_count": 9
        }
      ]
    },
    {
      "cell_type": "markdown",
      "metadata": {
        "id": "9RhqJk6aue7v"
      },
      "source": [
        "Т.к. $rank A = rank \\tilde A$, то система уровнений совместна и будет иметь единственное решение."
      ]
    },
    {
      "cell_type": "markdown",
      "metadata": {
        "id": "Vv5EZpNbu9TH"
      },
      "source": [
        "б) $\\begin{cases}\n",
        "2x_{1}-4x_{2}+6x_{3}=1, \\\\\n",
        "x_{1}-2x_{2}+3x_{3}=-2, \\\\\n",
        "3x_{1}-6x_{2}+9x_{3}=5;\n",
        "\\end{cases}$\n",
        "\n",
        "Если умножить второе уравнение на 3 и вычесть из третьего, то получим следующую систему уровнений:\n",
        "\n",
        "$\\begin{cases}\n",
        "2x_{1}-4x_{2}+6x_{3}=1, \\\\\n",
        "x_{1}-2x_{2}+3x_{3}=-2, \\\\\n",
        "0x_{1}-0x_{2}+0x_{3}=11;\n",
        "\\end{cases}$\n",
        "\n",
        "Таким образим, система не совместна и решения нет."
      ]
    },
    {
      "cell_type": "markdown",
      "metadata": {
        "id": "Kv99LL4bz1R0"
      },
      "source": [
        "в) $\\begin{cases}\n",
        "x_{1}+2x_{2}+5x_{3}=4, \\\\\n",
        "3x_{1}+x_{2}-8x_{3}=-2. \n",
        "\\end{cases}$\n",
        "\n",
        "$\\tilde A = \\begin{pmatrix}\n",
        "\\left.\\begin{matrix}\n",
        "1 & 2 & 5\\\\ \n",
        "3 & 1 & -8\n",
        "\\end{matrix}\\right|\n",
        "\\begin{matrix}\n",
        "4\\\\ \n",
        "-2\n",
        "\\end{matrix}\n",
        "\\end{pmatrix}$\n",
        "\n",
        "Ранг матрицы $A$ и $\\tilde A$ равен 2. Поэтому система имеет бесконечное множество решений."
      ]
    },
    {
      "cell_type": "markdown",
      "metadata": {
        "id": "4aKnr5mE3SG3"
      },
      "source": [
        "__3.__ Проверить на совместность и выяснить, сколько решений будет иметь система линейных уравнений, заданная расширенной матрицей\n",
        "\n",
        "$$\\tilde{A}=\\begin{pmatrix}\n",
        "\\left.\\begin{matrix}\n",
        "1 & 3 & -2 & 4\\\\ \n",
        "0 & 5 & 0 & 1\\\\ \n",
        "0 & 0 & 3 & 0\\\\ \n",
        "0 & 0 & 0 & 2\n",
        "\\end{matrix}\\right|\n",
        "\\begin{matrix}\n",
        "3\\\\ \n",
        "2\\\\\n",
        "4\\\\\n",
        "1\n",
        "\\end{matrix}\n",
        "\\end{pmatrix}.$$"
      ]
    },
    {
      "cell_type": "code",
      "metadata": {
        "colab": {
          "base_uri": "https://localhost:8080/"
        },
        "id": "cMnt1VDK3YLu",
        "outputId": "7786b71d-354e-4815-f3cd-a30cb65ae85d"
      },
      "source": [
        "A = nm.array([[1,3,-2,4], [0, 5, 0, 1], [0, 0, 3, 0], [0, 0, 0, 2]])\n",
        "nm.linalg.matrix_rank(A)"
      ],
      "execution_count": null,
      "outputs": [
        {
          "output_type": "execute_result",
          "data": {
            "text/plain": [
              "4"
            ]
          },
          "metadata": {
            "tags": []
          },
          "execution_count": 2
        }
      ]
    },
    {
      "cell_type": "code",
      "metadata": {
        "colab": {
          "base_uri": "https://localhost:8080/"
        },
        "id": "unJeWRUI30j_",
        "outputId": "22dc8214-ccb5-4cdc-b385-38330b594d09"
      },
      "source": [
        "At = nm.concatenate([A, nm.array([[3], [2], [4], [1]])], axis=1)\n",
        "nm.linalg.matrix_rank(At)"
      ],
      "execution_count": null,
      "outputs": [
        {
          "output_type": "execute_result",
          "data": {
            "text/plain": [
              "4"
            ]
          },
          "metadata": {
            "tags": []
          },
          "execution_count": 7
        }
      ]
    },
    {
      "cell_type": "markdown",
      "metadata": {
        "id": "j5uqBA8O4dqP"
      },
      "source": [
        "Т.к. $rank A = rank \\tilde A$, то система уровнений совместна и будет иметь единственное решение."
      ]
    },
    {
      "cell_type": "markdown",
      "metadata": {
        "id": "RemfWuFK426A"
      },
      "source": [
        "__4.__ Дана система линейных уравнений, заданная расширенной матрицей\n",
        "\n",
        "$$\\tilde{A}=\\begin{pmatrix}\n",
        "\\left.\\begin{matrix}\n",
        "1 & 2 & 3\\\\ \n",
        "4 & 5 & 6\\\\ \n",
        "7 & 8 & 9\n",
        "\\end{matrix}\\right|\n",
        "\\begin{matrix}\n",
        "a\\\\ \n",
        "b\\\\\n",
        "c\n",
        "\\end{matrix}\n",
        "\\end{pmatrix}.$$\n",
        "\n",
        "Найти соотношение между параметрами $a$, $b$ и $c$, при которых система является несовместной.\n",
        "\n",
        "Запишем в виде системы уравнений:\n",
        "\n",
        "$\\begin{cases}\n",
        "x_{1}+2x_{2}+3x_{3}=a, \\\\\n",
        "4x_{1}+5x_{2}+6x_{3}=b, \\\\\n",
        "7x_{1}+8x_{2}+9x_{3}=c;\n",
        "\\end{cases}$\n",
        "\n",
        "Первое уровнение умножим на 4 и вычтем из второго, так же умножим первое уровнение на 7 и вычтем из третьего. Получим следующую систему:\n",
        "\n",
        "$\\begin{cases}\n",
        "x_{1}+2x_{2}+3x_{3}=a, \\\\\n",
        "-3x_{2}-6x_{3}=b-4a, \\\\\n",
        "-6x_{2}-12x_{3}=c-7a;\n",
        "\\end{cases}$\n",
        "\n",
        "Умножим второе уровнение на -2 и сложим с третьим уравнением:\n",
        "$$\\begin{cases}\n",
        "x_{1}+2x_{2}+3x_{3}=a, \\\\\n",
        "-3x_{2}-6x_{3}=b-4a, \\\\\n",
        "0x_{2}-0x_{3}=(c-7a)+-2\\cdot(b-4a);\n",
        "\\end{cases}$$\n",
        "\n",
        "Что бы данная система была несовместна необходимо, что бы $(c-7a)+-2\\cdot(b-4a) \\neq 0$\n",
        "\n",
        "или **$c+a \\neq 2b$**.\n"
      ]
    },
    {
      "cell_type": "markdown",
      "metadata": {
        "id": "1iDjwQoXBDSZ"
      },
      "source": [
        "__5.__ Решить систему уравнений методом Крамера:\n",
        "\n",
        "   а) $\\begin{cases}\n",
        "x_{1}-2x_{2}=1 \\\\\n",
        "3x_{1}-4x_{2}=7\n",
        "\\end{cases}$"
      ]
    },
    {
      "cell_type": "markdown",
      "metadata": {
        "id": "TJSOMsLSBIF-"
      },
      "source": [
        "$det A = 1*(-4)-3*(-2) = 2$\n",
        "\n",
        "$det A_1 = 1*(-4)-7*(-2) = 10$\n",
        "\n",
        "$det A_2 = 1*7-1*3 = 4$\n",
        "\n",
        "$x_1 = 10 / 2 = 5$\n",
        "\n",
        "$x_2 = 4 / 2 = 2$"
      ]
    },
    {
      "cell_type": "markdown",
      "metadata": {
        "id": "ZIT5iBZKC-4E"
      },
      "source": [
        "   б) $\\begin{cases}\n",
        "2x_{1}-x_{2}+5x_{3}=10 \\\\\n",
        "x_{1}+x_{2}-3x_{3}=-2 \\\\\n",
        "2x_{1}+4x_{2}+x_{3}=1\n",
        "\\end{cases}$"
      ]
    },
    {
      "cell_type": "markdown",
      "metadata": {
        "id": "ArwKd9mgDV_D"
      },
      "source": [
        "$A = \\begin{pmatrix}\n",
        "2 & -1 & 5\\\\ \n",
        "1 & 1 & -3\\\\ \n",
        "2 & 4 & 1\n",
        "\\end{pmatrix}$\n",
        "\n",
        "$det A = 2*(1*1+3*4) + (1*1+2*3) + 5 * (1*4-2*1)=26+7+10=43$\n",
        "\n",
        "$A_1 = \\begin{pmatrix}\n",
        "10 & -1 & 5\\\\ \n",
        "-2 & 1 & -3\\\\ \n",
        "1 & 4 & 1\n",
        "\\end{pmatrix}$\n",
        "\n",
        "$det A_1 = 10*(1*1+3*4) + (-2*1+1*3) + 5 * (-2*4-1*1)=130+1-45=86$\n",
        "\n",
        "$A_2 = \\begin{pmatrix}\n",
        "2 & 10 & 5\\\\ \n",
        "1 & -2 & -3\\\\ \n",
        "2 & 1 & 1\n",
        "\\end{pmatrix}$\n",
        "\n",
        "$det A_2 = 2*(-2*1+3*1) - 10*(1*1+2*3) + 5*(1*1+2*2)=2-70+25=-43$\n",
        "\n",
        "$A_3 = \\begin{pmatrix}\n",
        "2 & -1 & 10\\\\ \n",
        "1 & 1 & -2\\\\ \n",
        "2 & 4 & 1\n",
        "\\end{pmatrix}$\n",
        "\n",
        "$det A_3 = 2*(1*1+2*4) + (1*1+2*2) + 10*(1*4-2*1)=18+5+20=43$\n",
        "\n",
        "$x_1 = 86/43=2$\n",
        "\n",
        "$x_2 = 97/43 = -1$\n",
        "\n",
        "$x_3 = 43/43 = 1$\n"
      ]
    },
    {
      "cell_type": "code",
      "metadata": {
        "colab": {
          "base_uri": "https://localhost:8080/"
        },
        "id": "NIGd2HAAI-rC",
        "outputId": "1a2ef3e7-6113-49ca-d996-ab0349b9cb16"
      },
      "source": [
        "A = nm.array([[2,-1,5], [1,1, -3], [2, 4, 1]])\n",
        "nm.linalg.det(A)"
      ],
      "execution_count": null,
      "outputs": [
        {
          "output_type": "execute_result",
          "data": {
            "text/plain": [
              "42.99999999999998"
            ]
          },
          "metadata": {
            "tags": []
          },
          "execution_count": 10
        }
      ]
    },
    {
      "cell_type": "code",
      "metadata": {
        "colab": {
          "base_uri": "https://localhost:8080/"
        },
        "id": "CddebeKNJSeR",
        "outputId": "909939c8-a897-463a-8e54-e9429f330d6c"
      },
      "source": [
        "A = nm.array([[10,-1,5], [-2,1, -3], [1, 4, 1]])\n",
        "nm.linalg.det(A)"
      ],
      "execution_count": null,
      "outputs": [
        {
          "output_type": "execute_result",
          "data": {
            "text/plain": [
              "86.00000000000004"
            ]
          },
          "metadata": {
            "tags": []
          },
          "execution_count": 11
        }
      ]
    },
    {
      "cell_type": "code",
      "metadata": {
        "colab": {
          "base_uri": "https://localhost:8080/"
        },
        "id": "UJRzmwUQJc_a",
        "outputId": "ec7f2bdb-ccd6-4956-c0b0-3d4ac5633cd2"
      },
      "source": [
        "A = nm.array([[2,10,5], [1,-2, -3], [2, 1, 1]])\n",
        "nm.linalg.det(A)"
      ],
      "execution_count": null,
      "outputs": [
        {
          "output_type": "execute_result",
          "data": {
            "text/plain": [
              "-43.000000000000014"
            ]
          },
          "metadata": {
            "tags": []
          },
          "execution_count": 12
        }
      ]
    },
    {
      "cell_type": "code",
      "metadata": {
        "colab": {
          "base_uri": "https://localhost:8080/"
        },
        "id": "c-z8gD34Ke5h",
        "outputId": "9ce5e369-6410-4372-db3b-7c6f6404b719"
      },
      "source": [
        "A = nm.array([[2,-1,10], [1,1, -2], [2, 4, 1]])\n",
        "nm.linalg.det(A)"
      ],
      "execution_count": null,
      "outputs": [
        {
          "output_type": "execute_result",
          "data": {
            "text/plain": [
              "42.99999999999998"
            ]
          },
          "metadata": {
            "tags": []
          },
          "execution_count": 13
        }
      ]
    },
    {
      "cell_type": "markdown",
      "metadata": {
        "id": "_ORpKKgL5rcz"
      },
      "source": [
        "__2*.__ Найти $L$-матрицу $LU$-разложения для матрицы коэффициентов:\n",
        "\n",
        "   а)$$\\begin{pmatrix}\n",
        "1 & 2 & 4 \\\\ \n",
        "2 & 9 & 12 \\\\ \n",
        "3 & 26 & 30\n",
        "\\end{pmatrix}$$\n",
        "\n",
        "Умножим первую строку матрицы на 2 и вычтем из второй строки:\n",
        "\n",
        "1 шаг\n",
        "$$\\begin{pmatrix}\n",
        "1 & 2 & 4 \\\\ \n",
        "0 & 5 & 4 \\\\ \n",
        "3 & 26 & 30\n",
        "\\end{pmatrix}$$\n",
        "\n",
        "$$L = \\begin{pmatrix}\n",
        "1 & 0 & 0 \\\\ \n",
        "2 & 1 & 0 \\\\ \n",
        "l_{13} & l_{23} & 1\n",
        "\\end{pmatrix}$$\n",
        "\n",
        "Умножим первую строку матрицы на 3 и вычтем из третьей строки:\n",
        "\n",
        "2 шаг\n",
        "$$\\begin{pmatrix}\n",
        "1 & 2 & 4 \\\\ \n",
        "0 & 5 & 4 \\\\ \n",
        "0 & 20 & 18\n",
        "\\end{pmatrix}$$\n",
        "\n",
        "$$L = \\begin{pmatrix}\n",
        "1 & 0 & 0 \\\\ \n",
        "2 & 1 & 0 \\\\ \n",
        "3 & l_{23} & 1\n",
        "\\end{pmatrix}$$\n",
        "\n",
        "Умножим вторую строку измененной матрицы, полкченной на втором шаге на 4 и вычтем из третьей строки:\n",
        "\n",
        "3 шаг\n",
        "$$U = \\begin{pmatrix}\n",
        "1 & 2 & 4 \\\\ \n",
        "0 & 5 & 4 \\\\ \n",
        "0 & 0 & 2\n",
        "\\end{pmatrix}$$\n",
        "\n",
        "$$L = \\begin{pmatrix}\n",
        "1 & 0 & 0 \\\\ \n",
        "2 & 1 & 0 \\\\ \n",
        "3 & 4 & 1\n",
        "\\end{pmatrix}$$\n",
        "\n",
        "   б)$$\\begin{pmatrix}\n",
        "1 & 1 & 2 & 4\\\\ \n",
        "2 & 5 & 8 & 9\\\\ \n",
        "3 & 18 & 29 & 18\\\\\n",
        "4 & 22 & 53 & 33\n",
        "\\end{pmatrix}$$\n",
        "\n",
        "1 шаг. Для первой строки коэффициенты матрицы L будут 2,3,4:\n",
        "\n",
        "$$\\begin{pmatrix}\n",
        "1 & 1 & 2 & 4\\\\ \n",
        "0 & 3 & 4 & 1\\\\ \n",
        "0 & 15 & 23 & 6\\\\\n",
        "0 & 18 & 45 & 17\n",
        "\\end{pmatrix}$$\n",
        "\n",
        "$$L = \\begin{pmatrix}\n",
        "1 & 0 & 0 & 0\\\\ \n",
        "2 & 1 & 0 & 0\\\\ \n",
        "3 & l_{32} & 1 & 0\\\\\n",
        "4 & l_{42}& l_{43} & 1\n",
        "\\end{pmatrix}$$\n",
        "\n",
        "2 шаг. Для второй строки коэффициенты матрицы L будут 5, 6:\n",
        "\n",
        "$$\\begin{pmatrix}\n",
        "1 & 1 & 2 & 4\\\\ \n",
        "0 & 3 & 4 & 1\\\\ \n",
        "0 & 0 & 3 & 1\\\\\n",
        "0 & 0 & 21 & 11\n",
        "\\end{pmatrix}$$\n",
        "\n",
        "$$L = \\begin{pmatrix}\n",
        "1 & 0 & 0 & 0\\\\ \n",
        "2 & 1 & 0 & 0\\\\ \n",
        "3 & 5 & 1 & 0\\\\\n",
        "4 & 6 & l_{43} & 1\n",
        "\\end{pmatrix}$$\n",
        "\n",
        "3 шаг. Для третьей строки коэффициенты матрицы L будут 7:\n",
        "\n",
        "$$U = \\begin{pmatrix}\n",
        "1 & 1 & 2 & 4\\\\ \n",
        "0 & 3 & 4 & 1\\\\ \n",
        "0 & 0 & 3 & 1\\\\\n",
        "0 & 0 & 0 & 4\n",
        "\\end{pmatrix}$$\n",
        "\n",
        "$$L = \\begin{pmatrix}\n",
        "1 & 0 & 0 & 0\\\\ \n",
        "2 & 1 & 0 & 0\\\\ \n",
        "3 & 5 & 1 & 0\\\\\n",
        "4 & 6 & 7 & 1\n",
        "\\end{pmatrix}$$"
      ]
    },
    {
      "cell_type": "code",
      "metadata": {
        "colab": {
          "base_uri": "https://localhost:8080/"
        },
        "id": "b1VQNWan_O0c",
        "outputId": "82394401-6733-4285-d10c-20d4b9d53427"
      },
      "source": [
        "L = nm.array([[1, 0, 0, 0], [2, 1, 0, 0], [3, 5, 1, 0], [4, 6, 7, 1]])\n",
        "U = nm.array([[1, 1, 2, 4], [0, 3, 4, 1], [0, 0, 3, 1], [0, 0, 0, 4]])\n",
        "\n",
        "L.dot(U)"
      ],
      "execution_count": null,
      "outputs": [
        {
          "output_type": "execute_result",
          "data": {
            "text/plain": [
              "array([[ 1,  1,  2,  4],\n",
              "       [ 2,  5,  8,  9],\n",
              "       [ 3, 18, 29, 18],\n",
              "       [ 4, 22, 53, 33]])"
            ]
          },
          "metadata": {
            "tags": []
          },
          "execution_count": 5
        }
      ]
    },
    {
      "cell_type": "markdown",
      "metadata": {
        "id": "YCheORXRBw8m"
      },
      "source": [
        "__3*.__ Решить систему линейных уравнений методом $LU$-разложения\n",
        "\n",
        "$$\\begin{cases}\n",
        "2x_{1}+x_{2}+3x_{3}=1 \\\\\n",
        "11x_{1}+7x_{2}+5x_{3}=-6 \\\\\n",
        "9x_{1}+8x_{2}+4x_{3}=-5\n",
        "\\end{cases}$$\n",
        "\n",
        "Запишем матрицу и сделаем LU разложение:\n",
        "$$\\begin{pmatrix}\n",
        "2 & 1 & 3 \\\\ \n",
        "11 & 7 & 5 \\\\ \n",
        "9 & 8 & 4\n",
        "\\end{pmatrix}$$\n",
        "\n",
        "Для первого столбца коэффициенты матрицы будут 5,5 и 4,5:\n",
        "\n",
        "$$\\begin{pmatrix}\n",
        "2 & 1 & 3 \\\\ \n",
        "0 & 1,5 & -11,5 \\\\ \n",
        "0 & 3,5 & -9,5\n",
        "\\end{pmatrix}$$\n",
        "\n",
        "$$L = \\begin{pmatrix}\n",
        "1 & 1 & 0 \\\\ \n",
        "5,5 & 1 & 0 \\\\ \n",
        "4,5 & l_{23} & 1\n",
        "\\end{pmatrix}$$\n",
        "\n",
        "Для второго столбца коэффициент матрицы L будет 7/3:\n",
        "\n",
        "$$U=\\begin{pmatrix}\n",
        "2 & 1 & 3 \\\\ \n",
        "0 & 1,5 & -11,5 \\\\ \n",
        "0 & 0 & 17,(33)\n",
        "\\end{pmatrix}$$\n",
        "\n",
        "$$L = \\begin{pmatrix}\n",
        "1 & 0 & 0 \\\\ \n",
        "5,5 & 1 & 0 \\\\ \n",
        "4,5 & 2,(33) & 1\n",
        "\\end{pmatrix}$$\n",
        "\n",
        "Проверка:\n"
      ]
    },
    {
      "cell_type": "code",
      "metadata": {
        "colab": {
          "base_uri": "https://localhost:8080/"
        },
        "id": "-S9VLrZGHeQW",
        "outputId": "8e7b8b34-f64b-4f22-eff6-498c6b947eae"
      },
      "source": [
        "L = nm.array([[1, 0, 0], [5.5, 1, 0], [4.5, 2.33333333, 1]])\n",
        "U = nm.array([[2, 1, 3], [0, 1.5, -11.5], [0, 0, 17.333333333]])\n",
        "\n",
        "L.dot(U)"
      ],
      "execution_count": null,
      "outputs": [
        {
          "output_type": "execute_result",
          "data": {
            "text/plain": [
              "array([[ 2.        ,  1.        ,  3.        ],\n",
              "       [11.        ,  7.        ,  5.        ],\n",
              "       [ 9.        ,  7.99999999,  4.00000004]])"
            ]
          },
          "metadata": {
            "tags": []
          },
          "execution_count": 11
        }
      ]
    },
    {
      "cell_type": "markdown",
      "metadata": {
        "id": "NueVGT5MK3_O"
      },
      "source": [
        "Решим теперь систему \n",
        "\n",
        "$$Ly=b:$$\n",
        "\n",
        "$$\\begin{cases}\n",
        "y_{1}=1, \\\\\n",
        "5.5y_{1}+y_{2}=-6, \\\\\n",
        "4.5y_{1}+2.33333y_{2}+y_{3}=-5.\n",
        "\\end{cases}$$\n",
        "\n",
        "$$y_{1}=1,$$\n",
        "$$y_{2}=-11.5,$$\n",
        "$$y_{3}=-5-4.5+2.33333*11.5=17.333295.$$\n",
        "\n",
        "И затем систему\n",
        "\n",
        "$$Ux=y:$$\n",
        "\n",
        "$$\\begin{cases}\n",
        "2x_{1}+x_{2}+3x_{3}=1, \\\\\n",
        "1.5x_{2}-11.5x_3=-11.5, \\\\\n",
        "17.3333333x_{3}=17.333295.\n",
        "\\end{cases}$$\n",
        "\n",
        "$$x_{3}=1,$$\n",
        "$$x_{2}=0,$$\n",
        "$$x_{1}=-1.$$\n",
        "\n",
        "Подстановка решения в исходную систему показывает, что равенство выполняется."
      ]
    },
    {
      "cell_type": "markdown",
      "metadata": {
        "id": "kODpQfBgUQC1"
      },
      "source": [
        "__4*.__ Решить систему линейных уравнений методом Холецкого\n",
        "\n",
        "$$\\begin{cases}\n",
        "81x_{1}-45x_{2}+45x_{3}=531 \\\\\n",
        "-45x_{1}+50x_{2}-15x_{3}=-460 \\\\\n",
        "45x_{1}-15x_{2}+38x_{3}=193\n",
        "\\end{cases}$$"
      ]
    },
    {
      "cell_type": "markdown",
      "metadata": {
        "id": "-u4tJ5zFUfS2"
      },
      "source": [
        "Произведем разложение на $LL^{T}$:\n",
        "\n",
        "$$l_{11}=\\sqrt{a_{11}}=\\sqrt{81} = 9,$$\n",
        "$$l_{21}=\\frac{a_{21}}{l_{11}}=\\frac{-45}{9}=-5,$$\n",
        "$$l_{31}=\\frac{a_{31}}{l_{11}}=\\frac{45}{9}=5,$$\n",
        "\n",
        "$$l_{22}=\\sqrt{a_{22}-l_{21}^{2}}=\\sqrt{50 - 25}=5,$$\n",
        "$$l_{32}=\\frac{1}{l_{22}}\\left(a_{32}-l_{21}l_{31} \\right)=\\frac{1}{5}\\left ( -15 + 25\\right)=2,$$\n",
        "\n",
        "$$l_{33}=\\sqrt{a_{33}-l_{31}^{2}-l_{32}^{2}}=\\sqrt{38-25-4}=3.$$\n",
        "\n",
        "Получили матрицу:\n",
        "\n",
        "$$L = \\begin{pmatrix}\n",
        "9 & 0 & 0 \\\\ \n",
        "-5 & 5 & 0 \\\\ \n",
        "5 & 2 & 3\n",
        "\\end{pmatrix},$$ \n",
        "\n",
        "$$L^{T} = \\begin{pmatrix}\n",
        "9 & -5 & 5 \\\\ \n",
        "0 & 5 & 2 \\\\ \n",
        "0 & 0 & 3\n",
        "\\end{pmatrix}.$$\n",
        "\n",
        "Решим систему $Ly=b:$\n",
        "\n",
        "$$\\begin{cases}\n",
        "9y_{1}=531, \\\\\n",
        "-5y_{1}+5y_{2}=-460, \\\\\n",
        "5y_{1}+2y_{2}+3y_{3}=193.\n",
        "\\end{cases}$$\n",
        "\n",
        "$$y_{1} = 59,$$\n",
        "\n",
        "$$y_{2}=-33,$$\n",
        "\n",
        "$$y_{3}=\\frac{193-295+66}{3}=-12.$$\n",
        "\n",
        "И решим систему $L^{T}x=y:$\n",
        "\n",
        "$$\\begin{cases}\n",
        "9x_{1}-5x_{2}+5x_{3}=59, \\\\\n",
        "5x_{2}+2x_{3}=-33, \\\\\n",
        "3x_{3}=-12.\n",
        "\\end{cases}$$\n",
        "\n",
        "$$x_{3}=-4,$$\n",
        "\n",
        "$$x_{2}=\\frac{-33+2\\cdot4}{5}=-5,$$\n",
        "\n",
        "$$x_{1}=\\frac{59-25+20}{9}=6.$$"
      ]
    },
    {
      "cell_type": "markdown",
      "metadata": {
        "id": "NQM57fHudPCN"
      },
      "source": [
        "Проверка:\n",
        "\n",
        "$$\\begin{cases}\n",
        "81*6-45*(-5)+45*(-4)=531 \\\\\n",
        "-45*6+50*(-5)-15*(-4)=-460 \\\\\n",
        "45*6-15*(-5)+38*(-4)=193\n",
        "\\end{cases}$$\n",
        "\n",
        "Выполняется."
      ]
    },
    {
      "cell_type": "code",
      "metadata": {
        "colab": {
          "base_uri": "https://localhost:8080/"
        },
        "id": "_MEoxRJ2x-lk",
        "outputId": "68a91698-a0ac-4cb8-c0ac-32adb56fcb1e"
      },
      "source": [
        "import numpy as nm\n",
        "\n",
        "\n",
        "def cramar(slae: nm.array):\n",
        "    \"\"\"\n",
        "    Возвращает решение системы линейных уравнений методом Крамера.\n",
        "\n",
        "    :param slae: расширенная матрица размером N x N+1\n",
        "    :return: вектор решения уравнений\n",
        "\n",
        "    Если система не имеет решения, то возвращается ошибка.\n",
        "    \"\"\"\n",
        "    n = nm.size(slae, axis=0)\n",
        "    m = nm.size(slae, axis=1)\n",
        "    if n+1 != m:\n",
        "        raise ValueError(\"Size of input matrix invalid. Must be N x N+1\")\n",
        "\n",
        "    A = slae[:n, :n]\n",
        "    B = slae[:, m-1]\n",
        "    detA = nm.linalg.det(A)\n",
        "    if detA <= 0.000000000001:\n",
        "        raise ValueError(f'This system has no solution. Det: {detA}')\n",
        "\n",
        "    X = nm.empty(n)\n",
        "\n",
        "    l = 0\n",
        "    while l < n:\n",
        "        C = nm.copy(A)\n",
        "        C[:,l] = B\n",
        "        X[l] = nm.linalg.det(C)/detA\n",
        "        l = l+1\n",
        "\n",
        "    return X\n",
        "\n",
        "\n",
        "A = nm.array([[2, -1, 5, 10], [1, 1, -3, -2], [2, 4, 1, 1]])\n",
        "print(cramar(A))\n"
      ],
      "execution_count": 2,
      "outputs": [
        {
          "output_type": "stream",
          "text": [
            "[ 2. -1.  1.]\n"
          ],
          "name": "stdout"
        }
      ]
    }
  ]
}