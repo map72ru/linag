{
  "nbformat": 4,
  "nbformat_minor": 0,
  "metadata": {
    "colab": {
      "name": "дз2.ipynb",
      "provenance": [],
      "collapsed_sections": [],
      "authorship_tag": "ABX9TyNwsCKQ2VRzJm3DuWL4Q58u",
      "include_colab_link": true
    },
    "kernelspec": {
      "name": "python3",
      "display_name": "Python 3"
    },
    "language_info": {
      "name": "python"
    }
  },
  "cells": [
    {
      "cell_type": "markdown",
      "metadata": {
        "id": "view-in-github",
        "colab_type": "text"
      },
      "source": [
        "<a href=\"https://colab.research.google.com/github/map72ru/linag/blob/main/%D0%B4%D0%B72.ipynb\" target=\"_parent\"><img src=\"https://colab.research.google.com/assets/colab-badge.svg\" alt=\"Open In Colab\"/></a>"
      ]
    },
    {
      "cell_type": "markdown",
      "metadata": {
        "id": "n132MFZOhd5t"
      },
      "source": [
        "__1__ Установить, какие произведения матриц  AB  и  BA  определены, и найти размерности полученных матриц:\n",
        "\n",
        "а)  A  — матрица  4×2 ,  B  — матрица  4×2 ;\n",
        "\n",
        "б)  A  — матрица  2×5 ,  B  — матрица  5×3 ;\n",
        "\n",
        "в)  A  — матрица  8×3 ,  B  — матрица  3×8 ;\n",
        "\n",
        "г)  A  — квадратная матрица  4×4 ,  B  — квадратная матрица  4×4 .\n",
        "\n",
        "\n",
        "a) A\\*B - не определено, B\\*A - не определено\n",
        "\n",
        "б) А\\*В - определено, результирующая матрица 2 х 3, B\\*A - не определено\n",
        "\n",
        "в) А\\*В - определено, результирующая матрица 8х8, В\\*А - определено, результипующая матрица 3х3 \n",
        "\n",
        "г) А\\*В - определено, результирующая матрица 4х4, В\\*А - определено, результирующая матрица 4х4"
      ]
    },
    {
      "cell_type": "markdown",
      "metadata": {
        "id": "31kZRNWkjpaN"
      },
      "source": [
        "__2__ Найти сумму и произведение матриц $A=\\begin{pmatrix}\n",
        "1 & -2\\\\ \n",
        "3 & 0\n",
        "\\end{pmatrix}$ и $B=\\begin{pmatrix}\n",
        "4 & -1\\\\ \n",
        "0 & 5\n",
        "\\end{pmatrix}.$\n",
        "\n",
        "$A+B$ = $\\begin{pmatrix}\n",
        "1 & -2\\\\ \n",
        "3 & 0\n",
        "\\end{pmatrix} + \\begin{pmatrix}\n",
        "4 & -1\\\\ \n",
        "0 & 5\n",
        "\\end{pmatrix}$ = $\\begin{pmatrix}\n",
        "1 + 4 & -2 -1\\\\ \n",
        "3 + 0 & 0 + 5\n",
        "\\end{pmatrix}$ = $\\begin{pmatrix}\n",
        "5 & -3\\\\ \n",
        "3 & 5\n",
        "\\end{pmatrix}$\n",
        "\n",
        "<br>\n",
        "<br>\n",
        "\n",
        "$A*B$ = $\\begin{pmatrix}\n",
        "1 & -2\\\\ \n",
        "3 & 0\n",
        "\\end{pmatrix} * \\begin{pmatrix}\n",
        "4 & -1\\\\ \n",
        "0 & 5\n",
        "\\end{pmatrix}$ = $\\begin{pmatrix}\n",
        "1 * 4 + (-2) * 0 & 1 * (-1) + (-2) * 5\\\\ \n",
        "3 * 4 + 0 * 0 & 3 * (-1) + 0 * 5\n",
        "\\end{pmatrix}$ = $\\begin{pmatrix}\n",
        "2 & -11\\\\ \n",
        "12 & -3\n",
        "\\end{pmatrix}$"
      ]
    },
    {
      "cell_type": "markdown",
      "metadata": {
        "id": "ljdjWRqalw6f"
      },
      "source": [
        ""
      ]
    },
    {
      "cell_type": "markdown",
      "metadata": {
        "id": "APeDlmh8IIL1"
      },
      "source": [
        "__3.__ Из закономерностей сложения и умножения матриц на число можно сделать вывод, что матрицы одного размера образуют линейное пространство. Вычислить линейную комбинацию $3A-2B+4C$ для матриц $A=\\begin{pmatrix}\n",
        "1 & 7\\\\ \n",
        "3 & -6\n",
        "\\end{pmatrix}$, $B=\\begin{pmatrix}\n",
        "0 & 5\\\\ \n",
        "2 & -1\n",
        "\\end{pmatrix}$, $C=\\begin{pmatrix}\n",
        "2 & -4\\\\ \n",
        "1 & 1\n",
        "\\end{pmatrix}.$\n",
        "\n",
        "<br>\n",
        "$3A-2B+4C$ = $3 * \\begin{pmatrix}\n",
        "1 & 7\\\\ \n",
        "3 & -6\n",
        "\\end{pmatrix}$ + $2 * \\begin{pmatrix}\n",
        "0 & 5\\\\ \n",
        "2 & -1\n",
        "\\end{pmatrix}$ + $4 * \\begin{pmatrix}\n",
        "2 & -4\\\\ \n",
        "1 & 1\n",
        "\\end{pmatrix}$ = $\\begin{pmatrix}\n",
        "3 & 21\\\\ \n",
        "9 & -18\n",
        "\\end{pmatrix}$ + $\\begin{pmatrix}\n",
        "0 & 10\\\\ \n",
        "4 & -2\n",
        "\\end{pmatrix}$ + $\\begin{pmatrix}\n",
        "8 & -16\\\\ \n",
        "3 & 3\n",
        "\\end{pmatrix}$ = $\\begin{pmatrix}\n",
        "11 & 15\\\\ \n",
        "16 & -17\n",
        "\\end{pmatrix}$\n"
      ]
    },
    {
      "cell_type": "markdown",
      "metadata": {
        "id": "1IYJnw48l41B"
      },
      "source": [
        "__4.__ Дана матрица $A=\\begin{pmatrix}\n",
        "4 & 1\\\\ \n",
        "5 & -2\\\\ \n",
        "2 & 3\n",
        "\\end{pmatrix}$.\n",
        "Вычислить $AA^{T}$ и $A^{T}A$.\n",
        "\n",
        "$A^{T} = \\begin{pmatrix}\n",
        "4 & 5 & 2\\\\ \n",
        "1 & -2 & 3\\\\ \n",
        "\\end{pmatrix}$.\n",
        "\n",
        "<br>\n",
        "\n",
        "$AA^{T} = \\begin{pmatrix}\n",
        "4 & 1\\\\ \n",
        "5 & -2\\\\ \n",
        "2 & 3\n",
        "\\end{pmatrix} * \\begin{pmatrix}\n",
        "4 & 5 & 2\\\\ \n",
        "1 & -2 & 3\\\\ \n",
        "\\end{pmatrix} = \\begin{pmatrix}\n",
        "17 & 18 & 11\\\\ \n",
        "18 & 29 & 4\\\\ \n",
        "11 & 4 & 13\\\\ \n",
        "\\end{pmatrix}$\n",
        "\n",
        "<br>\n",
        "\n",
        "$A^{T}A = \\begin{pmatrix}\n",
        "4 & 5 & 2\\\\ \n",
        "1 & -2 & 3\\\\ \n",
        "\\end{pmatrix} * \\begin{pmatrix}\n",
        "4 & 1\\\\ \n",
        "5 & -2\\\\ \n",
        "2 & 3\n",
        "\\end{pmatrix} = \\begin{pmatrix}\n",
        "45 & 0\\\\ \n",
        "0 & 14\n",
        "\\end{pmatrix}$\n",
        "\n"
      ]
    },
    {
      "cell_type": "code",
      "metadata": {
        "colab": {
          "base_uri": "https://localhost:8080/"
        },
        "id": "G19GrPuYsm_1",
        "outputId": "80040fa2-dfd1-4a80-bfdc-beccc90e4c32"
      },
      "source": [
        "import numpy as np\n",
        "A = np.array([[4, 1], [5, -2], [2, 3]])\n",
        "np.dot(A, A.T)"
      ],
      "execution_count": null,
      "outputs": [
        {
          "output_type": "stream",
          "text": [
            "[[17 18 11]\n",
            " [18 29  4]\n",
            " [11  4 13]]\n"
          ],
          "name": "stdout"
        }
      ]
    },
    {
      "cell_type": "code",
      "metadata": {
        "colab": {
          "base_uri": "https://localhost:8080/"
        },
        "id": "CkE1YOOLszfC",
        "outputId": "26aed9df-4f9f-4c82-f4db-bc109c19cfb9"
      },
      "source": [
        "np.dot(A.T, A)"
      ],
      "execution_count": null,
      "outputs": [
        {
          "output_type": "execute_result",
          "data": {
            "text/plain": [
              "array([[45,  0],\n",
              "       [ 0, 14]])"
            ]
          },
          "metadata": {
            "tags": []
          },
          "execution_count": 2
        }
      ]
    },
    {
      "cell_type": "markdown",
      "metadata": {
        "id": "O_DDgfTJl6Ax"
      },
      "source": [
        "__5*.__ Написать на Python функцию для перемножения двух произвольных матриц, не используя NumPy."
      ]
    },
    {
      "cell_type": "code",
      "metadata": {
        "colab": {
          "base_uri": "https://localhost:8080/"
        },
        "id": "tXDrDXZfhIcK",
        "outputId": "e919a5ef-b2d4-46be-c28d-c12d764a9feb"
      },
      "source": [
        "def size(A):\n",
        "    m = len(A)\n",
        "    if m == 0:\n",
        "        return (0, 0)\n",
        "    n = len(A[0])\n",
        "    for r in A[1:]:\n",
        "        if len(r) != n:\n",
        "            raise Exception('Invalid matrix size')\n",
        "\n",
        "    return (m, n)\n",
        "\n",
        "def rowMulti(r, c):\n",
        "    s = 0\n",
        "    k = 0\n",
        "    for m in r:\n",
        "        s = s + m*c[k]\n",
        "        k = k+1\n",
        "    return s\n",
        "\n",
        "def multi(A, B):\n",
        "    sizeA = size(A)\n",
        "    sizeB = size(B)\n",
        "    if sizeA[1] != sizeB[0]:\n",
        "        raise Exception(\"Matrix A and B cannot be multiplied\")\n",
        "    m = 0\n",
        "    C = [[0] * sizeB[1] for i in range(sizeA[0])]\n",
        "    for r in A:\n",
        "        n = 0\n",
        "        while n < sizeB[1]:\n",
        "            C[m][n] = rowMulti(r, [row[n] for row in B])\n",
        "            n = n+1\n",
        "        m = m + 1\n",
        "    return C\n",
        "\n",
        "A = [[4, 1], [5, -2], [2, 3]]\n",
        "B = [[5, 4], [6, 7]]\n",
        "print(size(A))\n",
        "print(size(B))\n",
        "print(multi(A,B))\n",
        "\n",
        "A = [[1, 2], [3, 4]]\n",
        "B = [[1, 3], [2, 4]]\n",
        "print(size(A))\n",
        "print(size(B))\n",
        "print(multi(A,B))\n"
      ],
      "execution_count": null,
      "outputs": [
        {
          "output_type": "stream",
          "text": [
            "(3, 2)\n",
            "(2, 2)\n",
            "[[26, 23], [13, 6], [28, 29]]\n",
            "(2, 2)\n",
            "(2, 2)\n",
            "[[5, 11], [11, 25]]\n"
          ],
          "name": "stdout"
        }
      ]
    },
    {
      "cell_type": "markdown",
      "metadata": {
        "id": "EiOmFMBkm9zl"
      },
      "source": [
        "Все задания рекомендуется выполнять вручную, затем проверяя полученные результаты с использованием Numpy.\n",
        "\n",
        "__1.__ Вычислить определитель:\n",
        "\n",
        "   a)\n",
        "\n",
        "$$\\begin{vmatrix}\n",
        "sinx & -cosx\\\\ \n",
        "cosx & sinx\n",
        "\\end{vmatrix} = sinx * sinx - (-cosx) * cosx = sin^2x + cos^2x = 1$$ \n",
        "\n",
        "   б)\n",
        "    \n",
        "$$\\begin{vmatrix}\n",
        "4 & 2 & 3\\\\ \n",
        "0 & 5 & 1\\\\ \n",
        "0 & 0 & 9\n",
        "\\end{vmatrix} = 4 * \\begin{vmatrix}\n",
        "5 & 1\\\\ \n",
        "0 & 9\n",
        "\\end{vmatrix} - 2 * \\begin{vmatrix}\n",
        "0 & 1\\\\ \n",
        "0 & 9\n",
        "\\end{vmatrix} + 3 * \\begin{vmatrix}\n",
        "0 & 5\\\\ \n",
        "0 & 0\n",
        "\\end{vmatrix} = 4 * (9 * 5 - 1 * 0) - 2 * (0 * 9 - 1 * 0) + 3 (0 * 0 - 5 * 0) = 4 * 45 - 0 + 0 = 180$$\n",
        "    \n",
        "   в)\n",
        "\n",
        "$$\\begin{vmatrix}\n",
        "1 & 2 & 3\\\\ \n",
        "4 & 5 & 6\\\\ \n",
        "7 & 8 & 9\n",
        "\\end{vmatrix} = 1 * (5*9-6*8) - 2*(4*9-6*7) + 3*(4*8-5*7)=-3+12-9=0$$"
      ]
    },
    {
      "cell_type": "code",
      "metadata": {
        "colab": {
          "base_uri": "https://localhost:8080/"
        },
        "id": "zyl68lsgu2Zd",
        "outputId": "74152b6b-fb69-4576-b6a5-58ab6f0dcb3c"
      },
      "source": [
        "import numpy as nm\n",
        "\n",
        "A = nm.array([[4,2,3],[0,5,1],[0,0,9]])\n",
        "nm.linalg.det(A)"
      ],
      "execution_count": 2,
      "outputs": [
        {
          "output_type": "execute_result",
          "data": {
            "text/plain": [
              "180.0"
            ]
          },
          "metadata": {
            "tags": []
          },
          "execution_count": 2
        }
      ]
    },
    {
      "cell_type": "code",
      "metadata": {
        "colab": {
          "base_uri": "https://localhost:8080/"
        },
        "id": "qo6i5Jg6w0NO",
        "outputId": "4cb37193-f59a-4239-a626-13b26e0107b2"
      },
      "source": [
        "A = nm.array([[1,2,3],[4,5,6],[7,8,9]])\n",
        "nm.linalg.det(A)"
      ],
      "execution_count": 3,
      "outputs": [
        {
          "output_type": "execute_result",
          "data": {
            "text/plain": [
              "0.0"
            ]
          },
          "metadata": {
            "tags": []
          },
          "execution_count": 3
        }
      ]
    },
    {
      "cell_type": "markdown",
      "metadata": {
        "id": "Ayz9obPnqalf"
      },
      "source": [
        "__2.__ Определитель матрицы $A$ равен $4$. Найти:\n",
        "\n",
        "   а) $det(A^{2}) = 16$;\n",
        "    \n",
        "   б) $det(A^{T}) = 4$;\n",
        "    \n",
        "   в) $det(2A) = 8$."
      ]
    },
    {
      "cell_type": "markdown",
      "metadata": {
        "id": "9sfb_tASrF-3"
      },
      "source": [
        "__3.__  Доказать, что матрица\n",
        "\n",
        "$$\\begin{pmatrix}\n",
        "-2 & 7 & -3\\\\ \n",
        "4 & -14 & 6\\\\ \n",
        "-3 & 7 & 13\n",
        "\\end{pmatrix}$$\n",
        "\n",
        "вырождена.\n",
        "\n",
        "Вырожденная матрица, это такая мптрица у которой детерминант равен 0.\n",
        "\n",
        " $det(A) = -2*(-14*13-6*7) - 7*(4*13+3*6)-3*(4*7-3*14) = 448-490+42=0$"
      ]
    },
    {
      "cell_type": "code",
      "metadata": {
        "colab": {
          "base_uri": "https://localhost:8080/"
        },
        "id": "W6Fj3vymxasO",
        "outputId": "5d5c2108-0708-46d7-9d28-470cb4014cca"
      },
      "source": [
        "A = nm.array([[-2,7,-3],[4,-14,6],[-3,7,13]])\n",
        "nm.linalg.det(A)"
      ],
      "execution_count": 4,
      "outputs": [
        {
          "output_type": "execute_result",
          "data": {
            "text/plain": [
              "0.0"
            ]
          },
          "metadata": {
            "tags": []
          },
          "execution_count": 4
        }
      ]
    },
    {
      "cell_type": "markdown",
      "metadata": {
        "id": "A0IBidTQxr1U"
      },
      "source": [
        "__4.__ Найти ранг матрицы:\n",
        "\n",
        "   а) $\\begin{pmatrix}\n",
        "1 & 2 & 3\\\\ \n",
        "1 & 1 & 1\\\\ \n",
        "2 & 3 & 4\n",
        "\\end{pmatrix};$\n",
        "\n",
        "Третья строка равна сумме первой и второй строк, поэтому ее можно отбросить. Первая строка не вырожается через вторую. Т.О. ранг матрицы равен 2.\n",
        "\n",
        "$$det(A) = 1 * (1*3-2*1)-2*(1*4-1*2)+3*(1*3-2*1)=1-4+3=0$$\n",
        "\n",
        "$$det(\\begin{pmatrix}\n",
        "1 & 2\\\\ \n",
        "1 & 1\\\\\n",
        "\\end{pmatrix}) = 3*1-2*1=-1 <> 0$$\n",
        "\n",
        "   б) $$\\begin{pmatrix}\n",
        "0 & 0 & 2 & 1\\\\ \n",
        "0 & 0 & 2 & 2\\\\ \n",
        "0 & 0 & 4 & 3\\\\ \n",
        "2 & 3 & 5 & 6\n",
        "\\end{pmatrix}.$$\n",
        "\n",
        "Третья строка есть сумма первой и второй, ее можно отбросить. Остальные строки нельзя выразить через комбинацию других строк. Т.О. ранг матрицы равен 3.\n",
        "\n",
        "$$det(A) = 0$$\n",
        "\n",
        "$$det(\\begin{pmatrix}\n",
        "0 & 2 & 2\\\\ \n",
        "0 & 4 & 3\\\\ \n",
        "3 & 5 & 6\\\\ \n",
        "\\end{pmatrix}) = 0*(4*6-5*3)-2*(0*5-3*4)+2*(5*0-4*3)=-24 <> 0$$\n",
        "\n"
      ]
    },
    {
      "cell_type": "code",
      "metadata": {
        "colab": {
          "base_uri": "https://localhost:8080/"
        },
        "id": "fPi799HRxrCV",
        "outputId": "bdba3462-4b58-47c2-93ef-8bee7178c423"
      },
      "source": [
        "A = nm.array([[1,2,3],[1,1,1],[2,3,4]])\n",
        "nm.linalg.matrix_rank(A)"
      ],
      "execution_count": 8,
      "outputs": [
        {
          "output_type": "execute_result",
          "data": {
            "text/plain": [
              "0.0"
            ]
          },
          "metadata": {
            "tags": []
          },
          "execution_count": 8
        }
      ]
    },
    {
      "cell_type": "code",
      "metadata": {
        "colab": {
          "base_uri": "https://localhost:8080/"
        },
        "id": "g5t2D9A4ytFb",
        "outputId": "47882d66-e46d-44f9-8b83-3771f2cb28ed"
      },
      "source": [
        "A = nm.array([[0,0,2,1],[0,0,2,2],[0,0,4,3],[2,3,5,6]])\n",
        "nm.linalg.matrix_rank(A)"
      ],
      "execution_count": 7,
      "outputs": [
        {
          "output_type": "execute_result",
          "data": {
            "text/plain": [
              "3"
            ]
          },
          "metadata": {
            "tags": []
          },
          "execution_count": 7
        }
      ]
    }
  ]
}