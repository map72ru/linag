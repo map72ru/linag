{
  "nbformat": 4,
  "nbformat_minor": 0,
  "metadata": {
    "colab": {
      "name": "ДЗ5.ipynb",
      "provenance": [],
      "collapsed_sections": [],
      "authorship_tag": "ABX9TyNMKIJ6wGqdVivtv965RxVb",
      "include_colab_link": true
    },
    "kernelspec": {
      "name": "python3",
      "display_name": "Python 3"
    },
    "language_info": {
      "name": "python"
    }
  },
  "cells": [
    {
      "cell_type": "markdown",
      "metadata": {
        "id": "view-in-github",
        "colab_type": "text"
      },
      "source": [
        "<a href=\"https://colab.research.google.com/github/map72ru/linag/blob/main/%D0%94%D0%975.ipynb\" target=\"_parent\"><img src=\"https://colab.research.google.com/assets/colab-badge.svg\" alt=\"Open In Colab\"/></a>"
      ]
    },
    {
      "cell_type": "markdown",
      "metadata": {
        "id": "7B7zdOoqz8pF"
      },
      "source": [
        "1. Найти с помощью NumPy SVD для матрицы\n",
        "\n",
        "$$\\begin{pmatrix}\n",
        "1 & 2 & 0\\\\ \n",
        "0 & 0 & 5\\\\ \n",
        "3 & -4 & 2\\\\ \n",
        "1 & 6 & 5\\\\ \n",
        "0 & 1 & 0\n",
        "\\end{pmatrix}.$$"
      ]
    },
    {
      "cell_type": "code",
      "metadata": {
        "id": "yaqMFckyz76R"
      },
      "source": [
        "import numpy as nm"
      ],
      "execution_count": 1,
      "outputs": []
    },
    {
      "cell_type": "code",
      "metadata": {
        "colab": {
          "base_uri": "https://localhost:8080/"
        },
        "id": "XnBSEP-w0CHD",
        "outputId": "cbd244d9-d090-4d5e-a2cb-bff161bbd3c7"
      },
      "source": [
        "A = nm.array([[1,2,0],[0,0,5],[3,-4,2],[1,6,5],[0,1,0]])\n",
        "U,D,V = nm.linalg.svd(A)\n",
        "print(f'U={U}')\n",
        "print(f'D={D}')\n",
        "print(f'Vt={V}')\n"
      ],
      "execution_count": 6,
      "outputs": [
        {
          "output_type": "stream",
          "text": [
            "U=[[ 0.17056501  0.15680918 -0.53077508 -0.79905375 -0.16158397]\n",
            " [ 0.39287016 -0.52933945  0.6134793  -0.43375771  0.03082495]\n",
            " [-0.14366152 -0.82449256 -0.52379105  0.14049848  0.07400343]\n",
            " [ 0.88843702  0.06074346 -0.24655277  0.37755832 -0.06042632]\n",
            " [ 0.08125046  0.10831843 -0.08231425 -0.10524851  0.98173958]]\n",
            "D=[8.82486885 6.14060608 2.53271528]\n",
            "Vt=[[ 0.07116451  0.71702467  0.69340553]\n",
            " [-0.36737824  0.66514082 -0.65009301]\n",
            " [-0.92734505 -0.20847855  0.31075368]]\n"
          ],
          "name": "stdout"
        }
      ]
    },
    {
      "cell_type": "markdown",
      "metadata": {
        "id": "0tnnBFWe1VBc"
      },
      "source": [
        "Для матрицы из предыдущего задания найти:\n",
        "\n",
        "а) евклидову норму;\n",
        "\n",
        "б) норму Фробениуса.\n",
        "\n",
        "Норма Евклида равна $\\mu_1$ сингулярного разложения. Сл-но: $\\left \\| A \\right \\|_{E}=8.82486885$\n",
        "\n",
        "Норма Фрабениуса равна\n",
        "\n",
        "$$\\left \\| A \\right \\|_{F}=\\sqrt{\\sum_{k=1}^{r}\\mu_{k}^{2}}.$$\n",
        "\n",
        "Следовательно:\n",
        "\n",
        "$$\\left \\| A \\right \\|_{F}=\\sqrt{8.82486885^2+6.14060608^2+2.53271528^2}=11.045361014425$$"
      ]
    },
    {
      "cell_type": "code",
      "metadata": {
        "colab": {
          "base_uri": "https://localhost:8080/"
        },
        "id": "4U0tvb-Y33KD",
        "outputId": "629bf027-2b06-499b-dd85-aa5f3a8d1817"
      },
      "source": [
        "nm.linalg.norm(A)"
      ],
      "execution_count": 7,
      "outputs": [
        {
          "output_type": "execute_result",
          "data": {
            "text/plain": [
              "11.045361017187261"
            ]
          },
          "metadata": {
            "tags": []
          },
          "execution_count": 7
        }
      ]
    }
  ]
}