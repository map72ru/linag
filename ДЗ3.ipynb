{
  "nbformat": 4,
  "nbformat_minor": 0,
  "metadata": {
    "colab": {
      "name": "ДЗ3.ipynb",
      "provenance": [],
      "collapsed_sections": [],
      "authorship_tag": "ABX9TyN2l+FTjEcmHk2UBX9EmlbC",
      "include_colab_link": true
    },
    "kernelspec": {
      "name": "python3",
      "display_name": "Python 3"
    },
    "language_info": {
      "name": "python"
    }
  },
  "cells": [
    {
      "cell_type": "markdown",
      "metadata": {
        "id": "view-in-github",
        "colab_type": "text"
      },
      "source": [
        "<a href=\"https://colab.research.google.com/github/map72ru/linag/blob/main/%D0%94%D0%973.ipynb\" target=\"_parent\"><img src=\"https://colab.research.google.com/assets/colab-badge.svg\" alt=\"Open In Colab\"/></a>"
      ]
    },
    {
      "cell_type": "markdown",
      "metadata": {
        "id": "zzMvCY2D40Re"
      },
      "source": [
        "__1.__ Найти собственные векторы и собственные значения для линейного оператора, заданного матрицей\n",
        "\n",
        "$$A=\\begin{pmatrix}\n",
        "-1 & -6\\\\ \n",
        "2 & 6\n",
        "\\end{pmatrix}.$$\n",
        "\n",
        "Составим характеристическое уравнение:\n",
        "\n",
        "$$\\begin{vmatrix}\n",
        "-1-\\lambda & -6\\\\ \n",
        "2 & 6-\\lambda\n",
        "\\end{vmatrix} = 0,$$\n",
        "\n",
        "$$(-1-\\lambda)(6-\\lambda)+6\\cdot2=0,$$\n",
        "\n",
        "$$\\lambda^{2}-5\\cdot\\lambda+6=0,$$\n",
        "\n",
        "$$\\lambda_1=(5+\\sqrt{25-4*6})/2 = 3$$\n",
        "$$\\lambda_2=(5-\\sqrt{25-4*6})/2 = 2$$\n",
        "\n",
        "Найдем собственные вектора. Для $$\\lambda = 3$$\n",
        "\n",
        "$$\\begin{pmatrix}\n",
        "-1 & -6\\\\ \n",
        "2 & 6\n",
        "\\end{pmatrix}\n",
        "\\begin{pmatrix}\n",
        "x_{1}\\\\ \n",
        "x_{2}\n",
        "\\end{pmatrix}=\n",
        "3\n",
        "\\begin{pmatrix}\n",
        "x_{1}\\\\ \n",
        "x_{2}\n",
        "\\end{pmatrix}.\n",
        "$$\n",
        "\n",
        "$$-1\\cdot x_1 - 6\\cdot x_2 = 3\\cdot x_1$$\n",
        "$$2\\cdot x_1 + 6\\cdot x_2 = 3\\cdot x_2$$\n",
        "\n",
        "$$x_1 = -\\frac {3}{2} \\cdot x_2$$\n",
        "\n",
        "Положим $x_2 = -2$, тогда $x_1 = 3$, тогда $\\begin{pmatrix}\n",
        "3\\\\ \n",
        "-2\\end{pmatrix}$ – первый собственный вектор (частный случай, они все будут колинеарны).\n",
        "\n",
        "Для $$\\lambda = 2$$\n",
        "\n",
        "$$\\begin{pmatrix}\n",
        "-1 & -6\\\\ \n",
        "2 & 6\n",
        "\\end{pmatrix}\n",
        "\\begin{pmatrix}\n",
        "x_{1}\\\\ \n",
        "x_{2}\n",
        "\\end{pmatrix}=\n",
        "2\n",
        "\\begin{pmatrix}\n",
        "x_{1}\\\\ \n",
        "x_{2}\n",
        "\\end{pmatrix}.\n",
        "$$\n",
        "Тогда\n",
        "$$-1\\cdot x_1 - 6\\cdot x_2 = 2\\cdot x_1$$\n",
        "$$2\\cdot x_1 + 6\\cdot x_2 = 2\\cdot x_2$$\n",
        "\n",
        "$$x_1 = -2 \\cdot x_2$$\n",
        "\n",
        "Положим $x_2 = -1$, тогда $x_1 = 2$, тогда $\\begin{pmatrix}\n",
        "-1\\\\ \n",
        "2\\end{pmatrix}$ – второй собственный вектор (частный случай, они все будут колинеарны)."
      ]
    },
    {
      "cell_type": "code",
      "metadata": {
        "id": "BbPewnpH4zBN"
      },
      "source": [
        "import numpy as np\n",
        "np.set_printoptions(precision=2, suppress=True)"
      ],
      "execution_count": 2,
      "outputs": []
    },
    {
      "cell_type": "code",
      "metadata": {
        "colab": {
          "base_uri": "https://localhost:8080/"
        },
        "id": "UjEzQyy65lJe",
        "outputId": "1b9c47e5-644c-4547-ee6e-c5d6e956bec5"
      },
      "source": [
        "a = np.array([[-1, -6], [2, 6]])\n",
        "w, v = np.linalg.eig(a)\n",
        "\n",
        "print(f'Матрица A:\\n{a}')\n",
        "print(f'Собственные значения:\\n{w}')\n",
        "print(f'Собственные векторы:\\n{v}')"
      ],
      "execution_count": 7,
      "outputs": [
        {
          "output_type": "stream",
          "text": [
            "Матрица A:\n",
            "[[-1 -6]\n",
            " [ 2  6]]\n",
            "Собственные значения:\n",
            "[2. 3.]\n",
            "Собственные векторы:\n",
            "[[-0.89  0.83]\n",
            " [ 0.45 -0.55]]\n"
          ],
          "name": "stdout"
        }
      ]
    },
    {
      "cell_type": "markdown",
      "metadata": {
        "id": "Z2RtbjITksqd"
      },
      "source": [
        "Не понятно что здесь выводит в качестве собственных векторов numpy."
      ]
    },
    {
      "cell_type": "markdown",
      "metadata": {
        "id": "9ipd-QT6aqLT"
      },
      "source": [
        "__2.__ Дан оператор поворота на 180 градусов, задаваемый матрицей \n",
        "\n",
        "$$A=\\begin{pmatrix}\n",
        "-1 & 0\\\\ \n",
        "0 & -1\n",
        "\\end{pmatrix}.$$\n",
        "\n",
        "Показать, что __любой__ вектор является для него собственным.\n",
        "\n",
        "$$\\begin{pmatrix}\n",
        "-1 & 0\\\\ \n",
        "0 & -1\n",
        "\\end{pmatrix} \\cdot \\begin{pmatrix}\n",
        "x_1\\\\ \n",
        "x_2\n",
        "\\end{pmatrix} = \\lambda \\cdot \\begin{pmatrix}\n",
        "x_1\\\\ \n",
        "x_2\n",
        "\\end{pmatrix}$$\n",
        "\n",
        "Система уровнений имеет следующий вид:\n",
        "\n",
        "$$-x_1 = \\lambda \\cdot x_1$$\n",
        "$$-x_2 = \\lambda \\cdot x_2$$,\n",
        "\n",
        "следовательно $\\lambda = -1$ для любых $x_1$ и $x_2$. Следовательно, любой вектор будет собственным.\n",
        "\n",
        "\n"
      ]
    },
    {
      "cell_type": "markdown",
      "metadata": {
        "id": "jH4MONqrH7HO"
      },
      "source": [
        "__3.__ Пусть линейный оператор задан матрицей\n",
        "\n",
        "$$A=\\begin{pmatrix}\n",
        "1 & 1\\\\ \n",
        "-1 & 3\n",
        "\\end{pmatrix}.$$\n",
        "\n",
        "Установить, является ли вектор $x=(1,1)$ собственным вектором этого линейного оператора.\n",
        "\n",
        "$$A=\\begin{pmatrix}\n",
        "1 & 1\\\\ \n",
        "-1 & 3\n",
        "\\end{pmatrix} \\cdot \\begin{pmatrix}\n",
        "1\\\\ \n",
        "1\n",
        "\\end{pmatrix} = \\lambda \\cdot \\begin{pmatrix}\n",
        "1\\\\ \n",
        "1\n",
        "\\end{pmatrix}$$\n",
        "\n",
        "$$\\begin{pmatrix}\n",
        "2\\\\ \n",
        "2\n",
        "\\end{pmatrix} = \\lambda \\cdot \\begin{pmatrix}\n",
        "1\\\\ \n",
        "1\n",
        "\\end{pmatrix}$$\n",
        "\n",
        "$$ \\lambda = 2 $$\n",
        "\n",
        "Вектор $x=(1,1)$ является собственным вектором.\n",
        "\n"
      ]
    },
    {
      "cell_type": "markdown",
      "metadata": {
        "id": "DxHoveATY4ei"
      },
      "source": [
        "__4.__ Пусть линейный оператор задан матрицей\n",
        "\n",
        "$$A=\\begin{pmatrix}\n",
        "0 & 3 & 0\\\\ \n",
        "3 & 0 & 0\\\\\n",
        "0 & 0 & 3\n",
        "\\end{pmatrix}.$$\n",
        "\n",
        "Установить, является ли вектор $x=(3, -3, -4)$ собственным вектором этого линейного оператора.\n",
        "\n",
        "$$\\begin{pmatrix}\n",
        "0 & 3 & 0\\\\ \n",
        "3 & 0 & 0\\\\\n",
        "0 & 0 & 3\n",
        "\\end{pmatrix} \\cdot \\begin{pmatrix}\n",
        "3\\\\ \n",
        "-3\\\\\n",
        "-4\n",
        "\\end{pmatrix} = \\lambda \\begin{pmatrix}\n",
        "3\\\\ \n",
        "-3\\\\\n",
        "-4\n",
        "\\end{pmatrix}$$\n",
        "\n",
        "$$\\begin{pmatrix}\n",
        "-9\\\\ \n",
        "9\\\\\n",
        "-12\n",
        "\\end{pmatrix} = \\lambda \\begin{pmatrix}\n",
        "3\\\\ \n",
        "-3\\\\\n",
        "-4\n",
        "\\end{pmatrix}$$\n",
        "\n",
        "В первом вырожении $$\\lambda = 3$$, во втором $$\\lambda = -3$$, в третьем $$\\lambda = 3$$, т.о. нет однозначного решения. Следовательно вектор $x=(3, -3, -4)$ не является собственным векторм.\n",
        "\n"
      ]
    }
  ]
}